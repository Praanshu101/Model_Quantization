{
 "cells": [
  {
   "cell_type": "markdown",
   "id": "f8d79d00",
   "metadata": {},
   "source": [
    "Team: 21\n",
    "\n",
    "- Praanshu Patel (23110249)\n",
    "- Rishank Soni (23110277)"
   ]
  },
  {
   "cell_type": "code",
   "execution_count": 1,
   "id": "7bcab28c",
   "metadata": {},
   "outputs": [],
   "source": [
    "import warnings\n",
    "warnings.filterwarnings(\"ignore\")"
   ]
  },
  {
   "cell_type": "code",
   "execution_count": 2,
   "id": "f0b6ea58",
   "metadata": {},
   "outputs": [
    {
     "name": "stdout",
     "output_type": "stream",
     "text": [
      "File exists\n",
      "File exists\n"
     ]
    }
   ],
   "source": [
    "import os\n",
    "\n",
    "# Importing files\n",
    "if os.path.exists(\"train.tsv\"):\n",
    "    print(\"File exists\")\n",
    "else:\n",
    "    !wget https://raw.githubusercontent.com/clairett/pytorch-sentiment-classification/master/data/SST2/train.tsv\n",
    "\n",
    "if os.path.exists(\"test.tsv\"):\n",
    "    print(\"File exists\")\n",
    "else:\n",
    "    !wget https://raw.githubusercontent.com/clairett/pytorch-sentiment-classification/master/data/SST2/test.tsv"
   ]
  },
  {
   "cell_type": "code",
   "execution_count": 3,
   "id": "a322eb18",
   "metadata": {},
   "outputs": [
    {
     "name": "stdout",
     "output_type": "stream",
     "text": [
      "Counts of each label:\n",
      "label\n",
      "1    3610\n",
      "0    3310\n",
      "Name: count, dtype: int64\n",
      "Counts of each label:\n",
      "label\n",
      "0    912\n",
      "1    909\n",
      "Name: count, dtype: int64\n"
     ]
    }
   ],
   "source": [
    "# Loading the datasets\n",
    "import pandas as pd\n",
    "import numpy as np\n",
    "\n",
    "def extractfiles(file):\n",
    "    df = pd.read_csv(file, sep='\\t', header=None)\n",
    "    df.columns = ['text', 'label']\n",
    "\n",
    "    # Extracting text\n",
    "    df['text'] = df['text'].astype(str).apply(lambda x: x.replace('\\t', ''))\n",
    "\n",
    "    # Extracting labels\n",
    "    df['label'] = df['label'].astype(str).apply(lambda x: x.replace('\\n', ''))\n",
    "    df['label'] = df['label'].astype(int)\n",
    "\n",
    "    # Printing counts to ensure no imbalance of classes\n",
    "    print(\"Counts of each label:\")\n",
    "    print(df['label'].value_counts())\n",
    "\n",
    "    df.head(10)\n",
    "\n",
    "    return df\n",
    "\n",
    "traindf = extractfiles(\"train.tsv\")\n",
    "test = extractfiles(\"test.tsv\")"
   ]
  },
  {
   "cell_type": "code",
   "execution_count": 4,
   "id": "8430d53a",
   "metadata": {},
   "outputs": [
    {
     "name": "stdout",
     "output_type": "stream",
     "text": [
      "Train shape: (5536, 2), Validation shape: (1384, 2)\n"
     ]
    },
    {
     "data": {
      "text/html": [
       "<div>\n",
       "<style scoped>\n",
       "    .dataframe tbody tr th:only-of-type {\n",
       "        vertical-align: middle;\n",
       "    }\n",
       "\n",
       "    .dataframe tbody tr th {\n",
       "        vertical-align: top;\n",
       "    }\n",
       "\n",
       "    .dataframe thead th {\n",
       "        text-align: right;\n",
       "    }\n",
       "</style>\n",
       "<table border=\"1\" class=\"dataframe\">\n",
       "  <thead>\n",
       "    <tr style=\"text-align: right;\">\n",
       "      <th></th>\n",
       "      <th>text</th>\n",
       "      <th>label</th>\n",
       "    </tr>\n",
       "  </thead>\n",
       "  <tbody>\n",
       "    <tr>\n",
       "      <th>1934</th>\n",
       "      <td>for those in search of something different , w...</td>\n",
       "      <td>1</td>\n",
       "    </tr>\n",
       "    <tr>\n",
       "      <th>3425</th>\n",
       "      <td>yes , mibii is rote work and predictable , but...</td>\n",
       "      <td>1</td>\n",
       "    </tr>\n",
       "    <tr>\n",
       "      <th>6025</th>\n",
       "      <td>this is an insultingly inept and artificial ex...</td>\n",
       "      <td>0</td>\n",
       "    </tr>\n",
       "    <tr>\n",
       "      <th>6478</th>\n",
       "      <td>plunges you into a reality that is , more ofte...</td>\n",
       "      <td>1</td>\n",
       "    </tr>\n",
       "    <tr>\n",
       "      <th>1084</th>\n",
       "      <td>the problem with the mayhem in formula 51 is n...</td>\n",
       "      <td>0</td>\n",
       "    </tr>\n",
       "  </tbody>\n",
       "</table>\n",
       "</div>"
      ],
      "text/plain": [
       "                                                   text  label\n",
       "1934  for those in search of something different , w...      1\n",
       "3425  yes , mibii is rote work and predictable , but...      1\n",
       "6025  this is an insultingly inept and artificial ex...      0\n",
       "6478  plunges you into a reality that is , more ofte...      1\n",
       "1084  the problem with the mayhem in formula 51 is n...      0"
      ]
     },
     "execution_count": 4,
     "metadata": {},
     "output_type": "execute_result"
    }
   ],
   "source": [
    "# Split the dataset 1 into train and validation\n",
    "from sklearn.model_selection import train_test_split\n",
    "\n",
    "train, val = train_test_split(traindf, test_size=0.2, random_state=11)\n",
    "print(f\"Train shape: {train.shape}, Validation shape: {val.shape}\")\n",
    "\n",
    "train.head()"
   ]
  },
  {
   "cell_type": "code",
   "execution_count": 5,
   "id": "8a7920d9",
   "metadata": {},
   "outputs": [],
   "source": [
    "import torch\n",
    "import torch.nn as nn\n",
    "import torch.nn.functional as F\n",
    "\n",
    "# Model architecture\n",
    "class NeuralNetwork(nn.Module):\n",
    "    def __init__(self):\n",
    "        super(NeuralNetwork, self).__init__()\n",
    "        self.fc1 = nn.Linear(10000, 512)\n",
    "        self.fc2 = nn.Linear(512, 256)\n",
    "        self.fc3 = nn.Linear(256, 128)\n",
    "        self.fc4 = nn.Linear(128, 64)\n",
    "        self.fc5 = nn.Linear(64, 2)\n",
    "        self.dropout = nn.Dropout(0.3)\n",
    "\n",
    "    def forward(self, x):\n",
    "        x = self.dropout(F.relu(self.fc1(x)))\n",
    "        x = self.dropout(F.relu(self.fc2(x)))\n",
    "        x = self.dropout(F.relu(self.fc3(x)))\n",
    "        x = self.dropout(F.relu(self.fc4(x)))\n",
    "        return x"
   ]
  },
  {
   "cell_type": "code",
   "execution_count": 6,
   "id": "03822c4f",
   "metadata": {},
   "outputs": [
    {
     "name": "stdout",
     "output_type": "stream",
     "text": [
      "----------------------------------------------------------------\n",
      "        Layer (type)               Output Shape         Param #\n",
      "================================================================\n",
      "            Linear-1               [-1, 1, 512]       5,120,512\n",
      "           Dropout-2               [-1, 1, 512]               0\n",
      "            Linear-3               [-1, 1, 256]         131,328\n",
      "           Dropout-4               [-1, 1, 256]               0\n",
      "            Linear-5               [-1, 1, 128]          32,896\n",
      "           Dropout-6               [-1, 1, 128]               0\n",
      "            Linear-7                [-1, 1, 64]           8,256\n",
      "           Dropout-8                [-1, 1, 64]               0\n",
      "================================================================\n",
      "Total params: 5,292,992\n",
      "Trainable params: 5,292,992\n",
      "Non-trainable params: 0\n",
      "----------------------------------------------------------------\n",
      "Input size (MB): 0.04\n",
      "Forward/backward pass size (MB): 0.01\n",
      "Params size (MB): 20.19\n",
      "Estimated Total Size (MB): 20.24\n",
      "----------------------------------------------------------------\n"
     ]
    }
   ],
   "source": [
    "# Instantiate model\n",
    "model = NeuralNetwork()\n",
    "\n",
    "# Print summary\n",
    "from torchsummary import summary\n",
    "summary(model, (1, 10000)) # 1 is the batch size and 10000 is the input size"
   ]
  },
  {
   "cell_type": "code",
   "execution_count": 7,
   "id": "1a16efb9",
   "metadata": {},
   "outputs": [
    {
     "name": "stdout",
     "output_type": "stream",
     "text": [
      "Number of parameters: 5293122\n"
     ]
    }
   ],
   "source": [
    "total_params = sum(p.numel() for p in model.parameters())\n",
    "print(f\"Number of parameters: {total_params}\")"
   ]
  },
  {
   "cell_type": "code",
   "execution_count": null,
   "id": "82607e5a",
   "metadata": {},
   "outputs": [],
   "source": [
    "# Training the model on 10 epochs and creating the best performing model\n",
    "\n",
    "import torch.optim as optim\n",
    "from sklearn.metrics import accuracy_score, classification_report\n",
    "from sklearn.metrics import confusion_matrix\n"
   ]
  }
 ],
 "metadata": {
  "kernelspec": {
   "display_name": "Python 3",
   "language": "python",
   "name": "python3"
  },
  "language_info": {
   "codemirror_mode": {
    "name": "ipython",
    "version": 3
   },
   "file_extension": ".py",
   "mimetype": "text/x-python",
   "name": "python",
   "nbconvert_exporter": "python",
   "pygments_lexer": "ipython3",
   "version": "3.12.2"
  }
 },
 "nbformat": 4,
 "nbformat_minor": 5
}
