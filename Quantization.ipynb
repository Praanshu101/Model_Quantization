{
 "cells": [
  {
   "cell_type": "markdown",
   "id": "f8d79d00",
   "metadata": {},
   "source": [
    "Team: 21\n",
    "\n",
    "- Praanshu Patel (23110249)\n",
    "- Rishank Soni (23110277)"
   ]
  },
  {
   "cell_type": "code",
   "execution_count": 18,
   "id": "7bcab28c",
   "metadata": {},
   "outputs": [],
   "source": [
    "import warnings\n",
    "warnings.filterwarnings(\"ignore\")"
   ]
  },
  {
   "cell_type": "code",
   "execution_count": 19,
   "id": "f0b6ea58",
   "metadata": {},
   "outputs": [
    {
     "name": "stdout",
     "output_type": "stream",
     "text": [
      "File exists\n",
      "File exists\n"
     ]
    }
   ],
   "source": [
    "import os\n",
    "\n",
    "# Importing files\n",
    "if os.path.exists(\"train.tsv\"):\n",
    "    print(\"File exists\")\n",
    "else:\n",
    "    !wget https://raw.githubusercontent.com/clairett/pytorch-sentiment-classification/master/data/SST2/train.tsv\n",
    "\n",
    "if os.path.exists(\"test.tsv\"):\n",
    "    print(\"File exists\")\n",
    "else:\n",
    "    !wget https://raw.githubusercontent.com/clairett/pytorch-sentiment-classification/master/data/SST2/test.tsv"
   ]
  },
  {
   "cell_type": "code",
   "execution_count": 20,
   "id": "a322eb18",
   "metadata": {},
   "outputs": [
    {
     "name": "stdout",
     "output_type": "stream",
     "text": [
      "Counts of each label:\n",
      "label\n",
      "1    3610\n",
      "0    3310\n",
      "Name: count, dtype: int64\n",
      "Counts of each label:\n",
      "label\n",
      "0    912\n",
      "1    909\n",
      "Name: count, dtype: int64\n"
     ]
    }
   ],
   "source": [
    "# Loading the datasets\n",
    "import pandas as pd\n",
    "import numpy as np\n",
    "\n",
    "def extractfiles(file):\n",
    "    df = pd.read_csv(file, sep='\\t', header=None)\n",
    "    df.columns = ['text', 'label']\n",
    "\n",
    "    # Extracting text\n",
    "    df['text'] = df['text'].astype(str).apply(lambda x: x.replace('\\t', ''))\n",
    "\n",
    "    # Extracting labels\n",
    "    df['label'] = df['label'].astype(str).apply(lambda x: x.replace('\\n', ''))\n",
    "    df['label'] = df['label'].astype(int)\n",
    "\n",
    "    # Printing counts to ensure no imbalance of classes\n",
    "    print(\"Counts of each label:\")\n",
    "    print(df['label'].value_counts())\n",
    "\n",
    "    df.head(10)\n",
    "\n",
    "    return df\n",
    "\n",
    "traindf = extractfiles(\"train.tsv\")\n",
    "test = extractfiles(\"test.tsv\")"
   ]
  },
  {
   "cell_type": "code",
   "execution_count": 21,
   "id": "8430d53a",
   "metadata": {},
   "outputs": [
    {
     "name": "stdout",
     "output_type": "stream",
     "text": [
      "Train shape: (5536, 2), Validation shape: (1384, 2)\n"
     ]
    },
    {
     "data": {
      "text/html": [
       "<div>\n",
       "<style scoped>\n",
       "    .dataframe tbody tr th:only-of-type {\n",
       "        vertical-align: middle;\n",
       "    }\n",
       "\n",
       "    .dataframe tbody tr th {\n",
       "        vertical-align: top;\n",
       "    }\n",
       "\n",
       "    .dataframe thead th {\n",
       "        text-align: right;\n",
       "    }\n",
       "</style>\n",
       "<table border=\"1\" class=\"dataframe\">\n",
       "  <thead>\n",
       "    <tr style=\"text-align: right;\">\n",
       "      <th></th>\n",
       "      <th>text</th>\n",
       "      <th>label</th>\n",
       "    </tr>\n",
       "  </thead>\n",
       "  <tbody>\n",
       "    <tr>\n",
       "      <th>1934</th>\n",
       "      <td>for those in search of something different , w...</td>\n",
       "      <td>1</td>\n",
       "    </tr>\n",
       "    <tr>\n",
       "      <th>3425</th>\n",
       "      <td>yes , mibii is rote work and predictable , but...</td>\n",
       "      <td>1</td>\n",
       "    </tr>\n",
       "    <tr>\n",
       "      <th>6025</th>\n",
       "      <td>this is an insultingly inept and artificial ex...</td>\n",
       "      <td>0</td>\n",
       "    </tr>\n",
       "    <tr>\n",
       "      <th>6478</th>\n",
       "      <td>plunges you into a reality that is , more ofte...</td>\n",
       "      <td>1</td>\n",
       "    </tr>\n",
       "    <tr>\n",
       "      <th>1084</th>\n",
       "      <td>the problem with the mayhem in formula 51 is n...</td>\n",
       "      <td>0</td>\n",
       "    </tr>\n",
       "  </tbody>\n",
       "</table>\n",
       "</div>"
      ],
      "text/plain": [
       "                                                   text  label\n",
       "1934  for those in search of something different , w...      1\n",
       "3425  yes , mibii is rote work and predictable , but...      1\n",
       "6025  this is an insultingly inept and artificial ex...      0\n",
       "6478  plunges you into a reality that is , more ofte...      1\n",
       "1084  the problem with the mayhem in formula 51 is n...      0"
      ]
     },
     "execution_count": 21,
     "metadata": {},
     "output_type": "execute_result"
    }
   ],
   "source": [
    "# Split the dataset 1 into train and validation\n",
    "from sklearn.model_selection import train_test_split\n",
    "\n",
    "train, val = train_test_split(traindf, test_size=0.2, random_state=11)\n",
    "print(f\"Train shape: {train.shape}, Validation shape: {val.shape}\")\n",
    "\n",
    "train.head()"
   ]
  },
  {
   "cell_type": "code",
   "execution_count": 22,
   "id": "8a7920d9",
   "metadata": {},
   "outputs": [],
   "source": [
    "import torch\n",
    "import torch.nn as nn\n",
    "import torch.nn.functional as F\n",
    "\n",
    "# Model architecture\n",
    "class NeuralNetwork(nn.Module):\n",
    "    def __init__(self):\n",
    "        super(NeuralNetwork, self).__init__()\n",
    "        self.fc1 = nn.Linear(10000, 512)\n",
    "        self.fc2 = nn.Linear(512, 256)\n",
    "        self.fc3 = nn.Linear(256, 128)\n",
    "        self.fc4 = nn.Linear(128, 64)\n",
    "        self.fc5 = nn.Linear(64, 2)\n",
    "        self.dropout = nn.Dropout(0.3)\n",
    "\n",
    "    def forward(self, x):\n",
    "        x = self.dropout(F.relu(self.fc1(x)))\n",
    "        x = self.dropout(F.relu(self.fc2(x)))\n",
    "        x = self.dropout(F.relu(self.fc3(x)))\n",
    "        x = self.dropout(F.relu(self.fc4(x)))\n",
    "        return x"
   ]
  },
  {
   "cell_type": "code",
   "execution_count": 23,
   "id": "03822c4f",
   "metadata": {},
   "outputs": [
    {
     "name": "stdout",
     "output_type": "stream",
     "text": [
      "----------------------------------------------------------------\n",
      "        Layer (type)               Output Shape         Param #\n",
      "================================================================\n",
      "            Linear-1               [-1, 1, 512]       5,120,512\n",
      "           Dropout-2               [-1, 1, 512]               0\n",
      "            Linear-3               [-1, 1, 256]         131,328\n",
      "           Dropout-4               [-1, 1, 256]               0\n",
      "            Linear-5               [-1, 1, 128]          32,896\n",
      "           Dropout-6               [-1, 1, 128]               0\n",
      "            Linear-7                [-1, 1, 64]           8,256\n",
      "           Dropout-8                [-1, 1, 64]               0\n",
      "================================================================\n",
      "Total params: 5,292,992\n",
      "Trainable params: 5,292,992\n",
      "Non-trainable params: 0\n",
      "----------------------------------------------------------------\n",
      "Input size (MB): 0.04\n",
      "Forward/backward pass size (MB): 0.01\n",
      "Params size (MB): 20.19\n",
      "Estimated Total Size (MB): 20.24\n",
      "----------------------------------------------------------------\n"
     ]
    }
   ],
   "source": [
    "# Instantiate model\n",
    "model = NeuralNetwork()\n",
    "\n",
    "# Print summary\n",
    "from torchsummary import summary\n",
    "summary(model, (1, 10000)) # 1 is the batch size and 10000 is the input size"
   ]
  },
  {
   "cell_type": "code",
   "execution_count": 24,
   "id": "1a16efb9",
   "metadata": {},
   "outputs": [
    {
     "name": "stdout",
     "output_type": "stream",
     "text": [
      "Number of parameters: 5293122\n"
     ]
    }
   ],
   "source": [
    "total_params = sum(p.numel() for p in model.parameters())\n",
    "print(f\"Number of parameters: {total_params}\")"
   ]
  },
  {
   "cell_type": "code",
   "execution_count": 25,
   "id": "82607e5a",
   "metadata": {},
   "outputs": [],
   "source": [
    "# Training the model on 10 epochs and creating the best performing model\n",
    "\n",
    "import torch.optim as optim\n",
    "import matplotlib.pyplot as plt"
   ]
  },
  {
   "cell_type": "code",
   "execution_count": 26,
   "id": "208a8930",
   "metadata": {},
   "outputs": [
    {
     "name": "stdout",
     "output_type": "stream",
     "text": [
      "Train features shape: torch.Size([5536, 10000]), Validation features shape: torch.Size([1384, 10000]), Test features shape: torch.Size([1821, 10000])\n"
     ]
    }
   ],
   "source": [
    "from sklearn.feature_extraction.text import TfidfVectorizer\n",
    "\n",
    "# Vectorize text data\n",
    "vectorizer = TfidfVectorizer(max_features=10000)\n",
    "X_train = vectorizer.fit_transform(train['text']).toarray()\n",
    "X_val = vectorizer.transform(val['text']).toarray()\n",
    "X_test = vectorizer.transform(test['text']).toarray()\n",
    "# Convert to PyTorch tensors\n",
    "train_features = torch.tensor(X_train, dtype=torch.float32)\n",
    "train_labels = torch.tensor(train['label'].values, dtype=torch.long)\n",
    "val_features = torch.tensor(X_val, dtype=torch.float32)\n",
    "val_labels = torch.tensor(val['label'].values, dtype=torch.long)\n",
    "test_features = torch.tensor(X_test, dtype=torch.float32)\n",
    "test_labels = torch.tensor(test['label'].values, dtype=torch.long)\n",
    "\n",
    "print(f\"Train features shape: {train_features.shape}, Validation features shape: {val_features.shape}, Test features shape: {test_features.shape}\")\n"
   ]
  },
  {
   "cell_type": "code",
   "execution_count": 27,
   "id": "7d4753a0",
   "metadata": {},
   "outputs": [],
   "source": [
    "# Train the model for 10 epochs, save the best model as 'checkpoint.pt', and plot validation accuracy & loss\n",
    "\n",
    "num_epochs = 10\n",
    "batch_size = 64\n",
    "learning_rate = 0.001\n",
    "\n",
    "device = torch.device(\"cuda\" if torch.cuda.is_available() else \"cpu\")\n",
    "model = NeuralNetwork().to(device)\n",
    "criterion = nn.CrossEntropyLoss()\n",
    "optimizer = optim.Adam(model.parameters(), lr=learning_rate)\n",
    "\n",
    "# Create DataLoaders\n",
    "train_dataset = torch.utils.data.TensorDataset(train_features, train_labels)\n",
    "val_dataset = torch.utils.data.TensorDataset(val_features, val_labels)\n",
    "train_loader = torch.utils.data.DataLoader(train_dataset, batch_size=batch_size, shuffle=True)\n",
    "val_loader = torch.utils.data.DataLoader(val_dataset, batch_size=batch_size)\n",
    "\n",
    "best_val_acc = 0.0\n",
    "train_losses, val_losses = [], []\n",
    "val_accuracies = []\n",
    "\n"
   ]
  },
  {
   "cell_type": "code",
   "execution_count": 28,
   "id": "a40c56c3",
   "metadata": {},
   "outputs": [
    {
     "name": "stdout",
     "output_type": "stream",
     "text": [
      "Epoch 1/10 | Train Loss: 2.6616 | Val Loss: 1.3606 | Val Acc: 0.5340\n",
      "Epoch 2/10 | Train Loss: 2.1043 | Val Loss: 1.3619 | Val Acc: 0.6973\n",
      "Epoch 3/10 | Train Loss: 1.9842 | Val Loss: 1.1291 | Val Acc: 0.7767\n",
      "Epoch 4/10 | Train Loss: 1.6263 | Val Loss: 0.9434 | Val Acc: 0.7659\n",
      "Epoch 5/10 | Train Loss: 1.3897 | Val Loss: 1.1476 | Val Acc: 0.7514\n",
      "Epoch 6/10 | Train Loss: 1.2597 | Val Loss: 1.1863 | Val Acc: 0.7579\n",
      "Epoch 7/10 | Train Loss: 1.3129 | Val Loss: 1.3855 | Val Acc: 0.7543\n",
      "Epoch 8/10 | Train Loss: 1.2698 | Val Loss: 1.5088 | Val Acc: 0.7572\n",
      "Epoch 9/10 | Train Loss: 1.2704 | Val Loss: 1.6076 | Val Acc: 0.7536\n",
      "Epoch 10/10 | Train Loss: 1.2552 | Val Loss: 1.6650 | Val Acc: 0.7551\n"
     ]
    },
    {
     "data": {
      "image/png": "[encoded data removed]",
      "text/plain": [
       "<Figure size 1000x500 with 2 Axes>"
      ]
     },
     "metadata": {},
     "output_type": "display_data"
    }
   ],
   "source": [
    "for epoch in range(num_epochs):\n",
    "    model.train()\n",
    "    running_loss = 0.0\n",
    "    for x_batch, y_batch in train_loader:\n",
    "        x_batch, y_batch = x_batch.to(device), y_batch.to(device)\n",
    "        optimizer.zero_grad()\n",
    "        outputs = model(x_batch)\n",
    "        loss = criterion(outputs, y_batch)\n",
    "        loss.backward()\n",
    "        optimizer.step()\n",
    "        running_loss += loss.item() * x_batch.size(0)\n",
    "    train_loss = running_loss / len(train_loader.dataset)\n",
    "    train_losses.append(train_loss)\n",
    "\n",
    "    # Validation\n",
    "    model.eval()\n",
    "    val_loss = 0.0\n",
    "    correct = 0\n",
    "    total = 0\n",
    "    with torch.no_grad():\n",
    "        for x_batch, y_batch in val_loader:\n",
    "            x_batch, y_batch = x_batch.to(device), y_batch.to(device)\n",
    "            outputs = model(x_batch)\n",
    "            loss = criterion(outputs, y_batch)\n",
    "            val_loss += loss.item() * x_batch.size(0)\n",
    "            _, predicted = torch.max(outputs, 1)\n",
    "            correct += (predicted == y_batch).sum().item()\n",
    "            total += y_batch.size(0)\n",
    "    val_loss = val_loss / len(val_loader.dataset)\n",
    "    val_acc = correct / total\n",
    "    val_losses.append(val_loss)\n",
    "    val_accuracies.append(val_acc)\n",
    "\n",
    "    # Save best model\n",
    "    if val_acc > best_val_acc:\n",
    "        best_val_acc = val_acc\n",
    "        torch.save(model.state_dict(), \"checkpoint.pt\")\n",
    "\n",
    "    print(f\"Epoch {epoch+1}/{num_epochs} | Train Loss: {train_loss:.4f} | Val Loss: {val_loss:.4f} | Val Acc: {val_acc:.4f}\")\n",
    "\n",
    "# Plotting\n",
    "plt.figure(figsize=(10,5))\n",
    "plt.subplot(1,2,1)\n",
    "plt.plot(range(1, num_epochs+1), train_losses, label='Train Loss')\n",
    "plt.plot(range(1, num_epochs+1), val_losses, label='Val Loss')\n",
    "plt.xlabel('Epoch')\n",
    "plt.ylabel('Loss')\n",
    "plt.title('Loss vs Epochs')\n",
    "plt.legend()\n",
    "\n",
    "plt.subplot(1,2,2)\n",
    "plt.plot(range(1, num_epochs+1), val_accuracies, label='Val Accuracy', color='green')\n",
    "plt.xlabel('Epoch')\n",
    "plt.ylabel('Accuracy')\n",
    "plt.title('Validation Accuracy vs Epochs')\n",
    "plt.legend()\n",
    "\n",
    "plt.tight_layout()\n",
    "plt.show()"
   ]
  },
  {
   "cell_type": "code",
   "execution_count": 29,
   "id": "0c33d48c",
   "metadata": {},
   "outputs": [
    {
     "data": {
      "text/plain": [
       "<All keys matched successfully>"
      ]
     },
     "execution_count": 29,
     "metadata": {},
     "output_type": "execute_result"
    }
   ],
   "source": [
    "# Load the best model\n",
    "model.load_state_dict(torch.load(\"checkpoint.pt\"))"
   ]
  },
  {
   "cell_type": "code",
   "execution_count": null,
   "id": "0bccb937",
   "metadata": {},
   "outputs": [],
   "source": [
    "# for mac os\n",
    "# torch.backends.quantized.engine = 'qnnpack'\n"
   ]
  },
  {
   "cell_type": "code",
   "execution_count": 31,
   "id": "ec1c24b6",
   "metadata": {},
   "outputs": [],
   "source": [
    "# Calculating the following metrics:\n",
    "# 1. Accuracy on test set\n",
    "# 2. Model size in MB\n",
    "# 3. Inference time on test set\n",
    "import time\n",
    "\n",
    "# Function to calculate all metrics\n",
    "def calculate_metrics(model, test_features, test_labels, model_data_type):\n",
    "    model.eval()\n",
    "    device = torch.device(\"cuda\" if torch.cuda.is_available() else \"cpu\")\n",
    "    model.to(device)\n",
    "    test_features = test_features.to(device)\n",
    "    test_labels = test_labels.to(device)\n",
    "\n",
    "    # Inference time\n",
    "    start_time = time.time()\n",
    "    with torch.no_grad():\n",
    "        outputs = model(test_features)\n",
    "        _, predicted = torch.max(outputs, 1)\n",
    "    inference_time = time.time() - start_time\n",
    "\n",
    "    # Accuracy\n",
    "    correct = (predicted == test_labels).sum().item()\n",
    "    accuracy = correct / len(test_labels)\n",
    "\n",
    "    # Model size in MB based on the data type (Can be INT 8, FLOAT 16, FLOAT 32)\n",
    "    if model_data_type == \"INT8\":\n",
    "        model_size = sum(p.numel() for p in model.parameters()) * 1 / (1024 * 1024)  # MB\n",
    "    elif model_data_type == \"FLOAT16\":\n",
    "        model_size = sum(p.numel() for p in model.parameters()) * 2 / (1024 * 1024)  # MB\n",
    "    elif model_data_type == \"FLOAT32\":\n",
    "        model_size = sum(p.numel() for p in model.parameters()) * 4 / (1024 * 1024)  # MB\n",
    "    else:\n",
    "        raise ValueError(\"Unsupported data type. Use 'INT8', 'FLOAT16', or 'FLOAT32'.\")\n",
    "\n",
    "    return accuracy, model_size, inference_time"
   ]
  },
  {
   "cell_type": "code",
   "execution_count": 32,
   "id": "35784a0e",
   "metadata": {},
   "outputs": [
    {
     "name": "stdout",
     "output_type": "stream",
     "text": [
      "{'Model Name': 'Original', 'Accuracy (Out of 100)': 0.7913234486545854, 'Storage (in MB)': 20.19165802001953, 'Inference Time (in ms)': 51.866769790649414}\n"
     ]
    }
   ],
   "source": [
    "# Calculating metrics for current model (FLOAT32)\n",
    "accuracy_float32, model_size_float32, inference_time_float32 = calculate_metrics(model, test_features, test_labels, \"FLOAT32\")\n",
    "dict_metrics_float32 = {\n",
    "    \"Model Name\": \"Original\",\n",
    "    \"Accuracy (Out of 100)\": accuracy_float32,\n",
    "    \"Storage (in MB)\": model_size_float32,\n",
    "    \"Inference Time (in ms)\": inference_time_float32 * 1000,  # Convert to milliseconds\n",
    "}\n",
    "print(dict_metrics_float32)"
   ]
  },
  {
   "cell_type": "code",
   "execution_count": 38,
   "id": "3728cfa6",
   "metadata": {},
   "outputs": [
    {
     "name": "stdout",
     "output_type": "stream",
     "text": [
      "{'Model Name': 'Dynamic', 'Accuracy (Out of 100)': 0.7918725974739155, 'Storage (in MB)': 0.0, 'Inference Time (in ms)': 90.4538631439209, 'Storage (in KB)': 5178.212890625}\n"
     ]
    }
   ],
   "source": [
    "# INT 8 Dynamic Quantization\n",
    "import io\n",
    "import torch.quantization as quantization\n",
    "# Set the model to evaluation mode and apply dynamic quantization\n",
    "# Load the model and set it to evaluation mode\n",
    "model = NeuralNetwork()\n",
    "model.load_state_dict(torch.load(\"checkpoint.pt\"))\n",
    "model.eval()\n",
    "quantized_model = quantization.quantize_dynamic(model, {nn.Linear}, dtype=torch.qint8)\n",
    "\n",
    "# Reconvert test features to their original data type\n",
    "X_test = vectorizer.transform(test['text']).toarray()\n",
    "# Convert to PyTorch tensors\n",
    "test_features = torch.tensor(X_test, dtype=torch.float32)\n",
    "test_labels = torch.tensor(test['label'].values, dtype=torch.long)\n",
    "\n",
    "# Calculate metrics for INT 8 quantized model\n",
    "accuracy_int8, model_size_int8, inference_time_int8 = calculate_metrics(quantized_model, test_features, test_labels, \"INT8\")\n",
    "dict_metrics_int8 = {\n",
    "    \"Model Name\": \"Dynamic\",\n",
    "    \"Accuracy (Out of 100)\": accuracy_int8,\n",
    "    \"Storage (in MB)\": model_size_int8,\n",
    "    \"Inference Time (in ms)\": inference_time_int8 * 1000,  # Convert to milliseconds\n",
    "}\n",
    "\n",
    "def get_model_size_in_kb(model):\n",
    "    buffer = io.BytesIO()\n",
    "    torch.save(model.state_dict(), buffer)\n",
    "    size_kb = buffer.getbuffer().nbytes / 1024\n",
    "    return size_kb\n",
    "\n",
    "model_size_int8_kb = get_model_size_in_kb(quantized_model)\n",
    "dict_metrics_int8[\"Storage (in KB)\"] = model_size_int8_kb\n",
    "print(dict_metrics_int8)\n"
   ]
  },
  {
   "cell_type": "code",
   "execution_count": 39,
   "id": "5ada80d7",
   "metadata": {},
   "outputs": [
    {
     "name": "stdout",
     "output_type": "stream",
     "text": [
      "{'Model Name': 'Half', 'Accuracy (Out of 100)': 0.7913234486545854, 'Storage (in MB)': 10.095829010009766, 'Inference Time (in ms)': 188.41218948364258}\n"
     ]
    }
   ],
   "source": [
    "# FLOAT 16 Quantization (using .half())\n",
    "# Clear the model and load the best model again\n",
    "model = NeuralNetwork()\n",
    "model.load_state_dict(torch.load(\"checkpoint.pt\"))\n",
    "model.half()  # Convert model to half precision (FLOAT16)\n",
    "model.eval()\n",
    "\n",
    "# Reconvert test features to their original data type\n",
    "X_test = vectorizer.transform(test['text']).toarray()\n",
    "# Convert to PyTorch tensors\n",
    "test_features = torch.tensor(X_test, dtype=torch.float16)\n",
    "test_labels = torch.tensor(test['label'].values, dtype=torch.long)\n",
    "\n",
    "# Calculate metrics for FLOAT 16 quantized model\n",
    "accuracy_float16, model_size_float16, inference_time_float16 = calculate_metrics(model, test_features, test_labels, \"FLOAT16\")\n",
    "dict_metrics_float16 = {\n",
    "    \"Model Name\": \"Half\",\n",
    "    \"Accuracy (Out of 100)\": accuracy_float16,\n",
    "    \"Storage (in MB)\": model_size_float16,\n",
    "    \"Inference Time (in ms)\": inference_time_float16 * 1000,  # Convert to milliseconds\n",
    "}\n",
    "print(dict_metrics_float16)"
   ]
  },
  {
   "cell_type": "code",
   "execution_count": 35,
   "id": "83f2f796",
   "metadata": {},
   "outputs": [
    {
     "data": {
      "text/html": [
       "<div>\n",
       "<style scoped>\n",
       "    .dataframe tbody tr th:only-of-type {\n",
       "        vertical-align: middle;\n",
       "    }\n",
       "\n",
       "    .dataframe tbody tr th {\n",
       "        vertical-align: top;\n",
       "    }\n",
       "\n",
       "    .dataframe thead th {\n",
       "        text-align: right;\n",
       "    }\n",
       "</style>\n",
       "<table border=\"1\" class=\"dataframe\">\n",
       "  <thead>\n",
       "    <tr style=\"text-align: right;\">\n",
       "      <th></th>\n",
       "      <th>Model Name</th>\n",
       "      <th>Accuracy (Out of 100)</th>\n",
       "      <th>Storage (in MB)</th>\n",
       "      <th>Inference Time (in ms)</th>\n",
       "    </tr>\n",
       "  </thead>\n",
       "  <tbody>\n",
       "    <tr>\n",
       "      <th>0</th>\n",
       "      <td>Original</td>\n",
       "      <td>79.132345</td>\n",
       "      <td>20.19</td>\n",
       "      <td>51.87</td>\n",
       "    </tr>\n",
       "    <tr>\n",
       "      <th>1</th>\n",
       "      <td>Dynamic</td>\n",
       "      <td>79.187260</td>\n",
       "      <td>0.00</td>\n",
       "      <td>104.74</td>\n",
       "    </tr>\n",
       "    <tr>\n",
       "      <th>2</th>\n",
       "      <td>Half</td>\n",
       "      <td>79.132345</td>\n",
       "      <td>10.10</td>\n",
       "      <td>158.37</td>\n",
       "    </tr>\n",
       "  </tbody>\n",
       "</table>\n",
       "</div>"
      ],
      "text/plain": [
       "  Model Name  Accuracy (Out of 100)  Storage (in MB)  Inference Time (in ms)\n",
       "0   Original              79.132345            20.19                   51.87\n",
       "1    Dynamic              79.187260             0.00                  104.74\n",
       "2       Half              79.132345            10.10                  158.37"
      ]
     },
     "metadata": {},
     "output_type": "display_data"
    }
   ],
   "source": [
    "# Make a dataframe of all the metrics\n",
    "import pandas as pd\n",
    "import numpy as np\n",
    "\n",
    "# Create a DataFrame from the dictionaries\n",
    "metrics_list = [dict_metrics_float32, dict_metrics_int8, dict_metrics_float16]\n",
    "metrics_df = pd.DataFrame(metrics_list)\n",
    "# Convert the accuracy to percentage\n",
    "metrics_df['Accuracy (Out of 100)'] = metrics_df['Accuracy (Out of 100)'] * 100\n",
    "# Convert the storage to MB\n",
    "metrics_df['Storage (in MB)'] = metrics_df['Storage (in MB)'].apply(lambda x: round(x, 2))\n",
    "# Convert the inference time to milliseconds\n",
    "metrics_df['Inference Time (in ms)'] = metrics_df['Inference Time (in ms)'].apply(lambda x: round(x, 2))\n",
    "# Display the DataFrame\n",
    "display(metrics_df)\n"
   ]
  },
  {
   "cell_type": "code",
   "execution_count": null,
   "id": "d6ee4ec3",
   "metadata": {},
   "outputs": [],
   "source": []
  }
 ],
 "metadata": {
  "kernelspec": {
   "display_name": "Python 3",
   "language": "python",
   "name": "python3"
  },
  "language_info": {
   "codemirror_mode": {
    "name": "ipython",
    "version": 3
   },
   "file_extension": ".py",
   "mimetype": "text/x-python",
   "name": "python",
   "nbconvert_exporter": "python",
   "pygments_lexer": "ipython3",
   "version": "3.12.2"
  }
 },
 "nbformat": 4,
 "nbformat_minor": 5
}
