{
 "cells": [
  {
   "cell_type": "markdown",
   "id": "f8d79d00",
   "metadata": {},
   "source": [
    "Team: 21\n",
    "\n",
    "- Praanshu Patel (23110249)\n",
    "- Rishank Soni (23110277)"
   ]
  }
 ],
 "metadata": {
  "language_info": {
   "name": "python"
  }
 },
 "nbformat": 4,
 "nbformat_minor": 5
}
